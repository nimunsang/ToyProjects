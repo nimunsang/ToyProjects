{
  "nbformat": 4,
  "nbformat_minor": 0,
  "metadata": {
    "colab": {
      "name": "FindEmptyClassroom.ipynb",
      "provenance": [],
      "collapsed_sections": []
    },
    "kernelspec": {
      "name": "python3",
      "display_name": "Python 3"
    },
    "language_info": {
      "name": "python"
    }
  },
  "cells": [
    {
      "cell_type": "code",
      "source": [
        "# !pip install selenium\n",
        "# !apt-get update\n",
        "# !apt install chromium-chromedriver\n",
        "# !cp /usr/lib/chromium-browser/chromedriver /usr/bin"
      ],
      "metadata": {
        "id": "JUujYYv6WJ6Y"
      },
      "execution_count": null,
      "outputs": []
    },
    {
      "cell_type": "code",
      "source": [
        "# 데이터 수집 도구로 selenium을 선택하였다.\n",
        "# 왜 selenium인가? 빈 강의실을 확인하려면, 수강편람의 교수계획표를 클릭해서 확인해야 하는데,\n",
        "# 수강편람에 있는 교수계획표가 수십개이므로, 일일이 클릭하고, 확인해야하는 수고로움이 있으므로,\n",
        "# 이를 자동으로 해주는 selenium이 적합하다고 생각했다.\n",
        "\n",
        "import time\n",
        "from selenium import webdriver\n",
        "from selenium.webdriver.common.by import By\n",
        "\n",
        "start_time = time.time()\n",
        "\n",
        "options = webdriver.ChromeOptions()\n",
        "options.add_argument('--headless')        # Head-less 설정\n",
        "options.add_argument('--no-sandbox')\n",
        "options.add_argument('--disable-dev-shm-usage')\n",
        "driver = webdriver.Chrome('chromedriver', options=options)"
      ],
      "metadata": {
        "id": "FaafuO3iWTgE"
      },
      "execution_count": 5,
      "outputs": []
    },
    {
      "cell_type": "code",
      "execution_count": 6,
      "metadata": {
        "id": "Ig4OuxERNKX2"
      },
      "outputs": [],
      "source": [
        "# url : 부산대학교 학생지원시스템 수강편람(상세) 페이지. 대학, 학과, 전공을 선택해야한다.\n",
        "url = \"https://e-onestop.pusan.ac.kr/menu/class/C03/C03006?menuId=2000030306&rMenu=03\"\n",
        "\n",
        "# chrome 창을 띄움\n",
        "driver.get(url)\n",
        "\n",
        "# 수강 편람 페이지가 제대로 출력 될때까지 기다린다.\n",
        "time.sleep(3)"
      ]
    },
    {
      "cell_type": "code",
      "source": [
        "# 내 정보를 수강편람 페이지에 작성하여, 내 학과의 정보를 검색하도록 하는 함수\n",
        "\n",
        "def set_my_information(mycollege):\n",
        "    collegelist = {\"공과대학\" : 5}  # 추후에 다른 대학도 추가할 수 있다.\n",
        "    choose_college_button = driver.find_element(By.CSS_SELECTOR, '#opt_collCd > option:nth-child(' + str(collegelist[mycollege]) + ')')\n",
        "    choose_college_button.click()\n",
        "    time.sleep(1)\n",
        "\n",
        "    choose_scholar_button = driver.find_element(By.CSS_SELECTOR, '#opt_deptCd > option:nth-child(13)')\n",
        "    choose_scholar_button.click()\n",
        "    time.sleep(1)\n",
        "\n",
        "    choose_major_button = driver.find_element(By.CSS_SELECTOR, '#opt_mjrCd > option:nth-child(2)')\n",
        "    choose_major_button.click()\n",
        "    time.sleep(1)\n",
        "\n",
        "    search_button = driver.find_element(By.ID, \"btn_search\")\n",
        "    search_button.click()\n",
        "    time.sleep(2)"
      ],
      "metadata": {
        "id": "wl-JeWZRNjIS"
      },
      "execution_count": 7,
      "outputs": []
    },
    {
      "cell_type": "code",
      "source": [
        "# 내 과의 1, 2, 3, 4학년 모든 수업의 교수계획표에서, 강의 시간과 강의실 정보를 가져오는 함수\n",
        "\n",
        "def get_class_information():\n",
        "    classrooms = []\n",
        "\n",
        "    for i in range(2, 64):\n",
        "        try:\n",
        "            l = driver.find_element(By.XPATH, '//*[@id=\"tbl_list\"]/tbody/tr[' + str(i) + ']').text\n",
        "            if '국문' in l or '영문' in l:\n",
        "                processor_plans = driver.find_element(By.XPATH, '//*[@id=\"tbl_list\"]/tbody/tr[' + str(i) + ']/td[13]/a')\n",
        "                driver.execute_script(\"arguments[0].click();\", processor_plans)\n",
        "\n",
        "                time.sleep(1)\n",
        "                classroom = driver.find_element(By.XPATH, '//*[@id=\"m2soft-crownix-text\"]/div[15]').text\n",
        "                classrooms.append(classroom)\n",
        "\n",
        "                close_button = driver.find_element(By.CLASS_NAME, 'crownix-close-button')\n",
        "                close_button.click()\n",
        "\n",
        "\n",
        "        except:\n",
        "            continue\n",
        "\n",
        "\n",
        "    return classrooms"
      ],
      "metadata": {
        "id": "xWpt0YhdNTjM"
      },
      "execution_count": 8,
      "outputs": []
    },
    {
      "cell_type": "code",
      "source": [
        "# 나는 '공과대학'에 속해 있으므로, 공대를 넣어주었다. \n",
        "# 추후에 모든 대학의 정보를 업데이트한다면, 자신의 대학, 학과를 넣을 수 있게 할 것이다.\n",
        "\n",
        "set_my_information('공과대학')\n",
        "\n",
        "# CLASSROOMS 변수에 내 정보(공과대학, 전기컴퓨터공학부, 정보컴퓨터공학전공, 전학년의 수업시간, 수업 강의실 정보)를 담아주었다.\n",
        "CLASSROOMS = get_class_information()\n",
        "\n",
        "# chrome 창 닫기\n",
        "driver.close()\n",
        "\n",
        "# selenium을 실행하는데 걸린 시간 출력\n",
        "total_time = time.time() - start_time\n",
        "print(total_time)\n",
        "\n",
        "\n",
        "# selenium을 이용하여 데이터를 받아오는 시간은 약 3분정도 걸렸다.\n",
        "# google colab에서는 selenium으로 chromedriver가 직접 돌아가는 모습을 확인은 못했지만,\n",
        "# pycharm으로 제대로 교수계획표에서 데이터를 수집하는 것을 확인하였고, 신뢰할 만한 데이터이다.\n",
        "# 교수계획표를 작성하지 않으신(?) 몇몇 교수님의 수업은 제대로 수집할 수 없었다."
      ],
      "metadata": {
        "id": "dD0KTbTVNTvk",
        "colab": {
          "base_uri": "https://localhost:8080/"
        },
        "outputId": "2aa3c282-37ae-4681-fb40-a949c241f1c2"
      },
      "execution_count": 9,
      "outputs": [
        {
          "output_type": "stream",
          "name": "stdout",
          "text": [
            "193.36576795578003\n"
          ]
        }
      ]
    },
    {
      "cell_type": "code",
      "source": [
        "# CLASSROOMS 정보에는 화, 목요일에 수업이 있는 정보가 한 줄에 저장되어 있으므로,\n",
        "# final_classrooms 변수에 따로 따로 화, 목요일 정보를 저장하였다. \n",
        "\n",
        "final_classrooms = []\n",
        "for c in CLASSROOMS:\n",
        "  c = list(c.split(','))\n",
        "  for a in c:\n",
        "    final_classrooms.append(a)"
      ],
      "metadata": {
        "id": "I0STYm0AXrWC"
      },
      "execution_count": 12,
      "outputs": []
    },
    {
      "cell_type": "code",
      "source": [
        "# final_classrooms 정보를 살펴보면, 15:00(수업시간) 201-6xxx 이런식 또는,\n",
        "# 18:00 - xx:00 이런식이다. 이 수업은 실험수업일 것이다.\n",
        "# 데이터를 가공하기 위해서, 하나의 양식으로 통일해줄 필요가 있다.\n",
        "\n",
        "for c in final_classrooms:\n",
        "  print(c)"
      ],
      "metadata": {
        "colab": {
          "base_uri": "https://localhost:8080/"
        },
        "id": "1qFvF_A9YEWx",
        "outputId": "669d699d-baeb-4dba-f8f5-fb344e6d915c"
      },
      "execution_count": 13,
      "outputs": [
        {
          "output_type": "stream",
          "name": "stdout",
          "text": [
            "월 10:30(75) 201-6514\n",
            "수 10:30(75) 201-6514\n",
            "월 10:30(75) 201-6516\n",
            "수 10:30(75) 201-6516\n",
            "화 13:30(75) 201-6202\n",
            "목 13:30(75) 201-6202\n",
            "화 13:30(75) 201-6203\n",
            "목 13:30(75) 201-6203\n",
            "화 10:30(75) 201-6514\n",
            "목 10:30(75) 201-6514\n",
            "월 16:30(75) 201-6516\n",
            "수 16:30(75) 201-6516\n",
            "화 09:00(75) 201-6516\n",
            "목 09:00(75) 201-6516\n",
            "화 15:00(75) 201-6514\n",
            "목 15:00(75) 201-6514\n",
            "월 09:00(75) 201-6514\n",
            "수 09:00(75) 201-6514\n",
            "월 16:30(75) 201-6203\n",
            "수 16:30(75) 201-6203\n",
            "화 16:30(75) 201-6202\n",
            "목 16:30(75) 201-6202\n",
            "화 13:30(75) 201-6514\n",
            "목 13:30(75) 201-6514\n",
            "화 10:30(75) 201-6202\n",
            "목 10:30(75) 201-6202\n",
            "화 15:00(75) 201-6202\n",
            "목 15:00(75) 201-6202\n",
            "화 16:30(100) 201-6409\n",
            "목 16:30(100) 201-6409\n",
            "월 10:30(100) 201-6409-1\n",
            "수 10:30(100) 201-6409-1\n",
            "월 16:30(100) 201-6308-1\n",
            "수 16:30(100) 201-6308-1\n",
            "화 10:30(100) 201-6308-1\n",
            "목 10:30(100) 201-6308-1\n",
            "화 15:00(75) 201-6515\n",
            "목 15:00(75) 201-6515\n",
            "화 09:00(75) 201-6514\n",
            "목 09:00(75) 201-6514\n",
            "월 16:30(75) 201-6514\n",
            "수 16:30(75) 201-6514\n",
            "월 13:30(75) 201-6202\n",
            "수 13:30(75) 201-6202\n",
            "월 15:00(75) 201-6515\n",
            "수 15:00(75) 201-6515\n",
            "화 09:00(75) 201-6409-1\n",
            "목 09:00(75) 201-6409-1\n",
            "월 09:00(75) 201-6409\n",
            "수 09:00(75) 201-6409\n",
            "화 15:00(75) 201-6409-1\n",
            "목 15:00(75) 201-6409-1\n",
            "월 09:00(75) 201-6408\n",
            "수 09:00(75) 201-6408\n",
            "화 16:30(75) 201-6516\n",
            "목 16:30(75) 201-6516\n",
            "화 15:00(75) 201-6516\n",
            "목 15:00(75) 201-6516\n",
            "화 13:30(75) 201-6516\n",
            "목 13:30(75) 201-6516\n",
            "화 13:30(75) 201-6408\n",
            "목 13:30(75) 201-6408\n",
            "화 15:00(75) 201-6408\n",
            "목 15:00(75) 201-6408\n",
            "화 16:30(75) 201-6408\n",
            "목 16:30(75) 201-6408\n",
            "화 10:30(100) 201-6408\n",
            "목 10:30(100) 201-6408\n",
            "월 16:30(100) 201-6409\n",
            "수 16:30(100) 201-6409\n",
            "월 10:30(100) 201-6408\n",
            "수 10:30(100) 201-6408\n",
            "월 10:30(100) 201-6308-1\n",
            "수 10:30(100) 201-6308-1\n",
            "화 16:30(100) 201-6308-1\n",
            "목 16:30(100) 201-6308-1\n",
            "월 13:30(75) 201-6516\n",
            "수 13:30(75) 201-6516\n",
            "월 15:00(75) 201-6516\n",
            "수 15:00(75) 201-6516\n",
            "화 09:00(75) 201-6203\n",
            "목 09:00(75) 201-6203\n",
            "화 13:30(75) 201-6409\n",
            "목 13:30(75) 201-6409\n",
            "화 09:00(75) 201-6202\n",
            "목 09:00(75) 201-6202\n",
            "월 18:00-21:00 201-6409-1\n",
            "수 18:00-21:00 201-6409-1\n",
            "화 10:30(75) 201-6203\n",
            "목 10:30(75) 201-6203\n",
            "화 10:30(75) 201-6516\n",
            "목 10:30(75) 201-6516\n",
            "월 13:30(75) 201-6514\n",
            "수 13:30(75) 201-6514\n",
            "월 13:30(75) 201-6515\n",
            "수 13:30(75) 201-6515\n",
            "월 13:30(75) 201-6203\n",
            "수 13:30(75) 201-6203\n",
            "월 15:00(75) 201-6202\n",
            "수 15:00(75) 201-6202\n",
            "월 15:00(75) 201-6514\n",
            "수 15:00(75) 201-6514\n",
            "월 15:00(75) 201-6203\n",
            "수 15:00(75) 201-6203\n",
            "월 18:00-22:00 201-6408\n",
            "화 18:00-22:00 201-6408\n",
            "수 18:00-22:00 201-6408\n"
          ]
        }
      ]
    },
    {
      "cell_type": "code",
      "source": [
        "# 평소에는 쓰지 않는 정규표현식을 적극적으로 활용해보겠다. (정규표현식으로 하면 코드가 깔끔해질것 같기 때문이다)\n",
        "# 실험 강의 데이터 'xx:00-xx:00'를 'xx:00(xx)' 형식으로 가공해주겠다.\n",
        "\n",
        "import re\n",
        "for i in range(len(final_classrooms)):\n",
        "  type1 = re.findall('[0-9]+:[0-9]+-[0-9]+:[0-9]+', final_classrooms[i])\n",
        "  if type1:\n",
        "    type1 = type1[0]\n",
        "    start_time, end_time = type1.split('-')[0], type1.split('-')[1]\n",
        "    start_minute = int(start_time.split(':')[0]) * 60 + int(start_time.split(':')[1])\n",
        "    end_minute = int(end_time.split(':')[0]) * 60 + int(end_time.split(':')[1])\n",
        "    running_time = end_minute - start_minute\n",
        "\n",
        "    final_classrooms[i] = final_classrooms[i].replace(type1, start_time + '(' + str(running_time) + ')')"
      ],
      "metadata": {
        "colab": {
          "base_uri": "https://localhost:8080/"
        },
        "id": "SqZJIg90fTCs",
        "outputId": "def7756b-5607-4204-ee1a-46a3ddda6a49"
      },
      "execution_count": 60,
      "outputs": [
        {
          "output_type": "stream",
          "name": "stdout",
          "text": [
            "월 18:00(180) 201-6409-1\n",
            "수 18:00(180) 201-6409-1\n",
            "월 18:00(240) 201-6408\n",
            "화 18:00(240) 201-6408\n",
            "수 18:00(240) 201-6408\n"
          ]
        }
      ]
    },
    {
      "cell_type": "code",
      "source": [
        "# 총 107개의 수업이 있다! 물론 비대면도 포함된 수업들이고, 교수계획표를 작성하지 않은 교수님도 있기 때문에 확실하진 않다.\n",
        "print(len(final_classrooms))"
      ],
      "metadata": {
        "colab": {
          "base_uri": "https://localhost:8080/"
        },
        "id": "Mxk8oeTbYvwW",
        "outputId": "545c62c4-7968-4feb-a318-1f9953911830"
      },
      "execution_count": 14,
      "outputs": [
        {
          "output_type": "stream",
          "name": "stdout",
          "text": [
            "107\n"
          ]
        }
      ]
    },
    {
      "cell_type": "code",
      "source": [
        "# 우리 과 건물번호는 201번이다. 건물은 1층부터 5층까지 이루어져 있지만, \n",
        "# 이중에는 수업을 안하는 강의실과, 다른 과에서 수업하는 강의실도 있다.\n",
        "# 그러므로, 우리과에서만 수업을 진행하는 강의실을 살펴보기로 하자.\n",
        "\n",
        "\n",
        "classroom_set = set()\n",
        "for classroom_information in final_classrooms:\n",
        "  room = re.findall('201-\\d*', classroom_information)[0][4:]\n",
        "  classroom_set.add(room)"
      ],
      "metadata": {
        "id": "cJh-yU5vaRi4"
      },
      "execution_count": 39,
      "outputs": []
    },
    {
      "cell_type": "code",
      "source": [
        "# 이용하는 강의실은 총 8개이다!\n",
        "\n",
        "print(classroom_set)"
      ],
      "metadata": {
        "colab": {
          "base_uri": "https://localhost:8080/"
        },
        "id": "_mxi8nKycLmW",
        "outputId": "3002161b-9711-4c5d-ad2b-3e2210ba1ae3"
      },
      "execution_count": 40,
      "outputs": [
        {
          "output_type": "stream",
          "name": "stdout",
          "text": [
            "{'6516', '6515', '6202', '6308', '6408', '6203', '6514', '6409'}\n"
          ]
        }
      ]
    },
    {
      "cell_type": "code",
      "source": [
        "# 수업 시간은 75분, 100분, 180분, 240분 이렇게 이루어져 있으므로, 최대공약수가 25분이다.\n",
        "# 즉, 오전 9시부터 오후 10시까지 25분 단위로 모든 강의실의 시간들을 초기화 시켜준다.\n",
        "\n",
        "total_information = []\n",
        "\n",
        "\n",
        "for i in range(5):\n",
        "  classroom_dict = {room : [] for room in classroom_set}\n",
        "  for room in classroom_dict:\n",
        "    for tim in range(9*60, 22*60):  \n",
        "      classroom_dict[room].append(tim)\n",
        "  \n",
        "  total_information.append(classroom_dict)"
      ],
      "metadata": {
        "id": "_EyAmwyfekYV"
      },
      "execution_count": 208,
      "outputs": []
    },
    {
      "cell_type": "code",
      "source": [
        "days = {'월' : 0, \"화\" : 1, \"수\" : 2, \"목\" : 3, \"금\" : 4}\n",
        "\n",
        "for classroom_information in final_classrooms:\n",
        "  day, tim, location = classroom_information.split()\n",
        "  day = days[day]\n",
        "  start_time, running_time = tim.split('(')[0], int(tim.split('(')[1][:-1])\n",
        "  start_time = int(start_time.split(':')[0]) * 60 + int(start_time.split(':')[1])\n",
        "\n",
        "  location = location.split('-')[1]\n",
        "\n",
        "  for tmp in range(0, running_time):\n",
        "    try:\n",
        "      total_information[day][location].remove(start_time + tmp)\n",
        "    except:\n",
        "      continue"
      ],
      "metadata": {
        "id": "X55ro84HmmQw"
      },
      "execution_count": 210,
      "outputs": []
    },
    {
      "cell_type": "code",
      "source": [
        "for d in range(5):\n",
        "  for room in classroom_set:\n",
        "    new_time = []\n",
        "    timelist = total_information[d][room]\n",
        "    start_time = timelist[0]\n",
        "    for i in range(1, len(timelist)):\n",
        "      if timelist[i] - timelist[i-1] > 1:\n",
        "        end_time = timelist[i-1]\n",
        "\n",
        "        if end_time - start_time >= 30:\n",
        "          new_time.append(str(start_time//60).zfill(2) + ':' + str(start_time%60).zfill(2) + '-' + str(end_time//60).zfill(2) + ':' + str(end_time%60).zfill(2))\n",
        "        start_time = timelist[i]\n",
        "    \n",
        "    new_time.append(str(start_time//60).zfill(2) + ':' + str(start_time%60).zfill(2) + '-' + '22:00')\n",
        "    total_information[d][room] = new_time"
      ],
      "metadata": {
        "id": "TYDVEEqjrhnU"
      },
      "execution_count": 212,
      "outputs": []
    },
    {
      "cell_type": "code",
      "source": [
        "import pandas as pd"
      ],
      "metadata": {
        "id": "9NatnQCaqpNY"
      },
      "execution_count": 215,
      "outputs": []
    },
    {
      "cell_type": "code",
      "source": [
        "pd.DataFrame(total_information, index = [\"월\", \"화\", \"수\", \"목\", \"금\"])"
      ],
      "metadata": {
        "colab": {
          "base_uri": "https://localhost:8080/",
          "height": 213
        },
        "id": "4OUuV-KxrUYP",
        "outputId": "7dd04807-d0c2-4d57-9343-3c9095324d36"
      },
      "execution_count": 216,
      "outputs": [
        {
          "output_type": "execute_result",
          "data": {
            "text/html": [
              "\n",
              "  <div id=\"df-1d8dda31-c3d0-4e91-860c-0dd04677dc3e\">\n",
              "    <div class=\"colab-df-container\">\n",
              "      <div>\n",
              "<style scoped>\n",
              "    .dataframe tbody tr th:only-of-type {\n",
              "        vertical-align: middle;\n",
              "    }\n",
              "\n",
              "    .dataframe tbody tr th {\n",
              "        vertical-align: top;\n",
              "    }\n",
              "\n",
              "    .dataframe thead th {\n",
              "        text-align: right;\n",
              "    }\n",
              "</style>\n",
              "<table border=\"1\" class=\"dataframe\">\n",
              "  <thead>\n",
              "    <tr style=\"text-align: right;\">\n",
              "      <th></th>\n",
              "      <th>6516</th>\n",
              "      <th>6515</th>\n",
              "      <th>6202</th>\n",
              "      <th>6308</th>\n",
              "      <th>6408</th>\n",
              "      <th>6203</th>\n",
              "      <th>6514</th>\n",
              "      <th>6409</th>\n",
              "    </tr>\n",
              "  </thead>\n",
              "  <tbody>\n",
              "    <tr>\n",
              "      <th>월</th>\n",
              "      <td>[09:00-10:29, 11:45-13:29, 17:45-22:00]</td>\n",
              "      <td>[09:00-13:29, 16:15-22:00]</td>\n",
              "      <td>[09:00-13:29, 16:15-22:00]</td>\n",
              "      <td>[09:00-10:29, 12:10-16:29, 18:10-22:00]</td>\n",
              "      <td>[12:10-22:00]</td>\n",
              "      <td>[09:00-13:29, 17:45-22:00]</td>\n",
              "      <td>[11:45-13:29, 17:45-22:00]</td>\n",
              "      <td>[12:10-16:29, 21:00-22:00]</td>\n",
              "    </tr>\n",
              "    <tr>\n",
              "      <th>화</th>\n",
              "      <td>[11:45-13:29, 17:45-22:00]</td>\n",
              "      <td>[09:00-14:59, 16:15-22:00]</td>\n",
              "      <td>[11:45-13:29, 17:45-22:00]</td>\n",
              "      <td>[09:00-10:29, 12:10-16:29, 18:10-22:00]</td>\n",
              "      <td>[09:00-10:29, 12:10-13:29, 17:45-22:00]</td>\n",
              "      <td>[11:45-13:29, 14:45-22:00]</td>\n",
              "      <td>[11:45-13:29, 16:15-22:00]</td>\n",
              "      <td>[10:15-13:29, 18:10-22:00]</td>\n",
              "    </tr>\n",
              "    <tr>\n",
              "      <th>수</th>\n",
              "      <td>[09:00-10:29, 11:45-13:29, 17:45-22:00]</td>\n",
              "      <td>[09:00-13:29, 16:15-22:00]</td>\n",
              "      <td>[09:00-13:29, 16:15-22:00]</td>\n",
              "      <td>[09:00-10:29, 12:10-16:29, 18:10-22:00]</td>\n",
              "      <td>[12:10-22:00]</td>\n",
              "      <td>[09:00-13:29, 17:45-22:00]</td>\n",
              "      <td>[11:45-13:29, 17:45-22:00]</td>\n",
              "      <td>[12:10-16:29, 21:00-22:00]</td>\n",
              "    </tr>\n",
              "    <tr>\n",
              "      <th>목</th>\n",
              "      <td>[11:45-13:29, 17:45-22:00]</td>\n",
              "      <td>[09:00-14:59, 16:15-22:00]</td>\n",
              "      <td>[11:45-13:29, 17:45-22:00]</td>\n",
              "      <td>[09:00-10:29, 12:10-16:29, 18:10-22:00]</td>\n",
              "      <td>[09:00-10:29, 12:10-13:29, 17:45-22:00]</td>\n",
              "      <td>[11:45-13:29, 14:45-22:00]</td>\n",
              "      <td>[11:45-13:29, 16:15-22:00]</td>\n",
              "      <td>[10:15-13:29, 18:10-22:00]</td>\n",
              "    </tr>\n",
              "    <tr>\n",
              "      <th>금</th>\n",
              "      <td>[09:00-22:00]</td>\n",
              "      <td>[09:00-22:00]</td>\n",
              "      <td>[09:00-22:00]</td>\n",
              "      <td>[09:00-22:00]</td>\n",
              "      <td>[09:00-22:00]</td>\n",
              "      <td>[09:00-22:00]</td>\n",
              "      <td>[09:00-22:00]</td>\n",
              "      <td>[09:00-22:00]</td>\n",
              "    </tr>\n",
              "  </tbody>\n",
              "</table>\n",
              "</div>\n",
              "      <button class=\"colab-df-convert\" onclick=\"convertToInteractive('df-1d8dda31-c3d0-4e91-860c-0dd04677dc3e')\"\n",
              "              title=\"Convert this dataframe to an interactive table.\"\n",
              "              style=\"display:none;\">\n",
              "        \n",
              "  <svg xmlns=\"http://www.w3.org/2000/svg\" height=\"24px\"viewBox=\"0 0 24 24\"\n",
              "       width=\"24px\">\n",
              "    <path d=\"M0 0h24v24H0V0z\" fill=\"none\"/>\n",
              "    <path d=\"M18.56 5.44l.94 2.06.94-2.06 2.06-.94-2.06-.94-.94-2.06-.94 2.06-2.06.94zm-11 1L8.5 8.5l.94-2.06 2.06-.94-2.06-.94L8.5 2.5l-.94 2.06-2.06.94zm10 10l.94 2.06.94-2.06 2.06-.94-2.06-.94-.94-2.06-.94 2.06-2.06.94z\"/><path d=\"M17.41 7.96l-1.37-1.37c-.4-.4-.92-.59-1.43-.59-.52 0-1.04.2-1.43.59L10.3 9.45l-7.72 7.72c-.78.78-.78 2.05 0 2.83L4 21.41c.39.39.9.59 1.41.59.51 0 1.02-.2 1.41-.59l7.78-7.78 2.81-2.81c.8-.78.8-2.07 0-2.86zM5.41 20L4 18.59l7.72-7.72 1.47 1.35L5.41 20z\"/>\n",
              "  </svg>\n",
              "      </button>\n",
              "      \n",
              "  <style>\n",
              "    .colab-df-container {\n",
              "      display:flex;\n",
              "      flex-wrap:wrap;\n",
              "      gap: 12px;\n",
              "    }\n",
              "\n",
              "    .colab-df-convert {\n",
              "      background-color: #E8F0FE;\n",
              "      border: none;\n",
              "      border-radius: 50%;\n",
              "      cursor: pointer;\n",
              "      display: none;\n",
              "      fill: #1967D2;\n",
              "      height: 32px;\n",
              "      padding: 0 0 0 0;\n",
              "      width: 32px;\n",
              "    }\n",
              "\n",
              "    .colab-df-convert:hover {\n",
              "      background-color: #E2EBFA;\n",
              "      box-shadow: 0px 1px 2px rgba(60, 64, 67, 0.3), 0px 1px 3px 1px rgba(60, 64, 67, 0.15);\n",
              "      fill: #174EA6;\n",
              "    }\n",
              "\n",
              "    [theme=dark] .colab-df-convert {\n",
              "      background-color: #3B4455;\n",
              "      fill: #D2E3FC;\n",
              "    }\n",
              "\n",
              "    [theme=dark] .colab-df-convert:hover {\n",
              "      background-color: #434B5C;\n",
              "      box-shadow: 0px 1px 3px 1px rgba(0, 0, 0, 0.15);\n",
              "      filter: drop-shadow(0px 1px 2px rgba(0, 0, 0, 0.3));\n",
              "      fill: #FFFFFF;\n",
              "    }\n",
              "  </style>\n",
              "\n",
              "      <script>\n",
              "        const buttonEl =\n",
              "          document.querySelector('#df-1d8dda31-c3d0-4e91-860c-0dd04677dc3e button.colab-df-convert');\n",
              "        buttonEl.style.display =\n",
              "          google.colab.kernel.accessAllowed ? 'block' : 'none';\n",
              "\n",
              "        async function convertToInteractive(key) {\n",
              "          const element = document.querySelector('#df-1d8dda31-c3d0-4e91-860c-0dd04677dc3e');\n",
              "          const dataTable =\n",
              "            await google.colab.kernel.invokeFunction('convertToInteractive',\n",
              "                                                     [key], {});\n",
              "          if (!dataTable) return;\n",
              "\n",
              "          const docLinkHtml = 'Like what you see? Visit the ' +\n",
              "            '<a target=\"_blank\" href=https://colab.research.google.com/notebooks/data_table.ipynb>data table notebook</a>'\n",
              "            + ' to learn more about interactive tables.';\n",
              "          element.innerHTML = '';\n",
              "          dataTable['output_type'] = 'display_data';\n",
              "          await google.colab.output.renderOutput(dataTable, element);\n",
              "          const docLink = document.createElement('div');\n",
              "          docLink.innerHTML = docLinkHtml;\n",
              "          element.appendChild(docLink);\n",
              "        }\n",
              "      </script>\n",
              "    </div>\n",
              "  </div>\n",
              "  "
            ],
            "text/plain": [
              "                                      6516                        6515  \\\n",
              "월  [09:00-10:29, 11:45-13:29, 17:45-22:00]  [09:00-13:29, 16:15-22:00]   \n",
              "화               [11:45-13:29, 17:45-22:00]  [09:00-14:59, 16:15-22:00]   \n",
              "수  [09:00-10:29, 11:45-13:29, 17:45-22:00]  [09:00-13:29, 16:15-22:00]   \n",
              "목               [11:45-13:29, 17:45-22:00]  [09:00-14:59, 16:15-22:00]   \n",
              "금                            [09:00-22:00]               [09:00-22:00]   \n",
              "\n",
              "                         6202                                     6308  \\\n",
              "월  [09:00-13:29, 16:15-22:00]  [09:00-10:29, 12:10-16:29, 18:10-22:00]   \n",
              "화  [11:45-13:29, 17:45-22:00]  [09:00-10:29, 12:10-16:29, 18:10-22:00]   \n",
              "수  [09:00-13:29, 16:15-22:00]  [09:00-10:29, 12:10-16:29, 18:10-22:00]   \n",
              "목  [11:45-13:29, 17:45-22:00]  [09:00-10:29, 12:10-16:29, 18:10-22:00]   \n",
              "금               [09:00-22:00]                            [09:00-22:00]   \n",
              "\n",
              "                                      6408                        6203  \\\n",
              "월                            [12:10-22:00]  [09:00-13:29, 17:45-22:00]   \n",
              "화  [09:00-10:29, 12:10-13:29, 17:45-22:00]  [11:45-13:29, 14:45-22:00]   \n",
              "수                            [12:10-22:00]  [09:00-13:29, 17:45-22:00]   \n",
              "목  [09:00-10:29, 12:10-13:29, 17:45-22:00]  [11:45-13:29, 14:45-22:00]   \n",
              "금                            [09:00-22:00]               [09:00-22:00]   \n",
              "\n",
              "                         6514                        6409  \n",
              "월  [11:45-13:29, 17:45-22:00]  [12:10-16:29, 21:00-22:00]  \n",
              "화  [11:45-13:29, 16:15-22:00]  [10:15-13:29, 18:10-22:00]  \n",
              "수  [11:45-13:29, 17:45-22:00]  [12:10-16:29, 21:00-22:00]  \n",
              "목  [11:45-13:29, 16:15-22:00]  [10:15-13:29, 18:10-22:00]  \n",
              "금               [09:00-22:00]               [09:00-22:00]  "
            ]
          },
          "metadata": {},
          "execution_count": 216
        }
      ]
    },
    {
      "cell_type": "code",
      "source": [
        "# 근데 결과를 보고 생각해보면, 비대면 수업들이 많아서, 딱히 의미가 없는것 같긴하다....\n",
        "# 지난주 수요일 6202에서 4시반에 공부 했었기 때문에...\n",
        "# 그래도 어느정도 후보를 정할 수 있는 것에 만족하자!"
      ],
      "metadata": {
        "id": "PVTsxACzrXaL"
      },
      "execution_count": 162,
      "outputs": []
    }
  ]
}